{
 "cells": [
  {
   "cell_type": "code",
   "execution_count": 1,
   "id": "f1073c7e-de1b-48d4-8a97-b3c03df152bd",
   "metadata": {},
   "outputs": [],
   "source": [
    "# default_exp"
   ]
  },
  {
   "cell_type": "code",
   "execution_count": 2,
   "id": "6ea7189a-25b3-47c3-a240-c2338fe28095",
   "metadata": {},
   "outputs": [],
   "source": [
    "#hide\n",
    "#all_slow"
   ]
  },
  {
   "cell_type": "markdown",
   "id": "6946d418-e2b3-4500-b6d7-d1ffcd0bcd95",
   "metadata": {},
   "source": [
    "# 1-D prior toy example\n",
    "\n",
    "> Demonstration of prior error bounds for a 1-D toy example"
   ]
  },
  {
   "cell_type": "markdown",
   "id": "80eebe9b-ec85-49a8-b895-e7724eddecc0",
   "metadata": {},
   "source": [
    "In this notebook we will demonstrate the error bounds for the statFEM prior for the toy example introduced in <a href=\"/statFEM/oneDim.html#1-dimensional-case-(ODE)\"><code>oneDim</code></a>. We first import some required packages."
   ]
  },
  {
   "cell_type": "code",
   "execution_count": 3,
   "id": "0bf09fed-be73-42d8-b397-fe5d23f0b67b",
   "metadata": {},
   "outputs": [],
   "source": [
    "from dolfin import *\n",
    "set_log_level(LogLevel.ERROR)\n",
    "import numpy as np\n",
    "import matplotlib.pyplot as plt\n",
    "plt.rcParams['figure.figsize'] = (10,6)\n",
    "# import required functions from oneDim\n",
    "from statFEM.oneDim import mean_assembler, kernMat, cov_assembler\n",
    "from scipy.stats import linregress\n",
    "from scipy import integrate\n",
    "from scipy.linalg import sqrtm\n",
    "from tqdm import tqdm\n",
    "import sympy; sympy.init_printing()\n",
    "# code for displaying matrices nicely\n",
    "def display_matrix(m):\n",
    "    display(sympy.Matrix(m))"
   ]
  },
  {
   "cell_type": "markdown",
   "id": "d6cac7ef-3ef0-4dd2-b835-268b1ce4bcea",
   "metadata": {},
   "source": [
    "The random forcing term has the following GP distribution:\n",
    "\n",
    "$$f\\sim\\mathcal{GP}(\\bar{f},k_{f})$$\n",
    "\n",
    "where,\n",
    "\n",
    "$$\\bar{f}(x)=1$$\n",
    "$$k_{f}(x,y)=\\sigma_{f}^{2}\\exp\\left(-\\frac{|x-y|^{2}}{2l_{f}^{2}}\\right)$$\n",
    "$$\\sigma_{f}=0.1$$\n",
    "$$l_{f}=0.4$$\n",
    "\n",
    "This forcing gives rise to the true solution mean and covariance functions:\n",
    "\n",
    "$$\\mu_{\\star}(x)=\\frac{1}{2}x(1-x)$$\n",
    "$$c_{u}(x,y)=\\int_{0}^{1}\\int_{0}^{1}G(x,w)k_{f}(w,t)G(t,y)dtdw$$\n",
    "\n",
    "where $G(x,y)$ is the Green's function for our problem:\n",
    "\n",
    "$$G(x,y)=x(1-y)\\Theta(y-x)+(1-x)y\\Theta(x-y) \\quad \\forall x,y\\in[0,1]$$\n",
    "\n",
    "(note: $\\Theta(x)$ is the Heaviside Step function). We now set up all these functions, noting that we use quadrature to compute $c_u$."
   ]
  },
  {
   "cell_type": "code",
   "execution_count": 4,
   "id": "8ce7fd7c-4452-485a-b543-bae276c3e81a",
   "metadata": {},
   "outputs": [],
   "source": [
    "# set up true mean and f_bar\n",
    "μ_star = Expression('0.5*x[0]*(1-x[0])',degree=2)\n",
    "f_bar = Constant(1.0)"
   ]
  },
  {
   "cell_type": "code",
   "execution_count": 5,
   "id": "4a7520dc-9375-4412-9649-ebdcc94e9b93",
   "metadata": {},
   "outputs": [],
   "source": [
    "# set up kernel functions for forcing f\n",
    "l_f = 0.4\n",
    "σ_f = 0.1\n",
    "\n",
    "def c_f(x,y):\n",
    "    return (σ_f**2)*np.exp(-(x-y)**2/(2*(l_f**2)))\n",
    "\n",
    "# translation invariant form of c_f\n",
    "def k_f(x):\n",
    "    return (σ_f**2)*np.exp(-(x**2)/(2*(l_f**2)))"
   ]
  },
  {
   "cell_type": "code",
   "execution_count": 6,
   "id": "d7878225-c01a-4f36-a5ea-9ab35df5eb7d",
   "metadata": {},
   "outputs": [],
   "source": [
    "# set up true cov function for solution\n",
    "# compute inner integral over t\n",
    "def η(w,y):\n",
    "    I_1 = integrate.quad(lambda t: t*c_f(w,t),0.0,y)[0]\n",
    "    I_2 = integrate.quad(lambda t: (1-t)*c_f(w,t),y,1.0)[0]\n",
    "    return (1-y)*I_1 + y*I_2\n",
    "\n",
    "# use this function eta and compute the outer integral over w\n",
    "def c_u(x,y):\n",
    "    I_1 = integrate.quad(lambda w: (1-w)*η(w,y),x,1.0)[0]\n",
    "    I_2 = integrate.quad(lambda w: w*η(w,y),0.0,x)[0]\n",
    "    return x*I_1 + (1-x)*I_2"
   ]
  },
  {
   "cell_type": "markdown",
   "id": "a2c69805-4662-4429-ae6c-8e904e27d4e6",
   "metadata": {},
   "source": [
    "We now set up a reference grid on which we will compare the true and statFEM covariance functions. We take a grid of length $N=51$"
   ]
  },
  {
   "cell_type": "code",
   "execution_count": 7,
   "id": "956ccb91-e41a-49e4-aabe-f9cb807cf6d9",
   "metadata": {},
   "outputs": [],
   "source": [
    "# set up reference grid\n",
    "N = 51\n",
    "grid = np.linspace(0,1,N)"
   ]
  },
  {
   "cell_type": "markdown",
   "id": "f064ffbc-10bb-47b2-9e33-901f102c469a",
   "metadata": {},
   "source": [
    "We now compute the true prior covariance on this reference grid."
   ]
  },
  {
   "cell_type": "code",
   "execution_count": 8,
   "id": "6074fbde-0a03-4aa6-b7f1-e6e04bdccf27",
   "metadata": {},
   "outputs": [],
   "source": [
    "# get the true cov matrix and its square root\n",
    "C_true = kernMat(c_u,grid,True,False)\n",
    "tol = 1e-15\n",
    "C_true_sqrt = np.real(sqrtm(C_true))\n",
    "rel_error = np.linalg.norm(C_true_sqrt @ C_true_sqrt - C_true)/np.linalg.norm(C_true)\n",
    "assert rel_error <= tol"
   ]
  },
  {
   "cell_type": "markdown",
   "id": "f6ae6dcb-3fe0-4856-9929-ce519e23b1b7",
   "metadata": {},
   "source": [
    "We now set up a function to get the statFEM prior, for a FE mesh size $h$, using functions from <a href=\"/statFEM/oneDim.html#\"><code>oneDim</code></a>."
   ]
  },
  {
   "cell_type": "code",
   "execution_count": 9,
   "id": "1b53cd72-ae20-4e5a-b568-f965ce7e737a",
   "metadata": {},
   "outputs": [],
   "source": [
    "# set up function to compute fem_prior\n",
    "def fem_prior(h,f_bar,k_f,grid):\n",
    "    J = int(np.round(1/h))\n",
    "    μ = mean_assembler(h,f_bar)\n",
    "    Σ = cov_assembler(J,k_f,grid,False,True)\n",
    "    return μ,Σ"
   ]
  },
  {
   "cell_type": "markdown",
   "id": "b13d0567-190d-4b5e-a64d-dc9578d47943",
   "metadata": {},
   "source": [
    "We now set up a function to compare the covariance functions on the reference grid. This function computes an approximation of the covariance contribution to the 2-Wasserstein distance discussed in <a href=\"/statFEM/oneDim.html#Difference-between-true-prior-covariance-and-statFEM-prior-covariance\"><code>oneDim</code></a>."
   ]
  },
  {
   "cell_type": "code",
   "execution_count": 10,
   "id": "00c476b6-ec3b-4caa-9185-f884a3dd01f6",
   "metadata": {},
   "outputs": [],
   "source": [
    "# function to compute cov error needed for the approximate wasserstein\n",
    "def compute_cov_diff(C1,C_true,C_true_sqrt,tol=1e-10):\n",
    "    N = C_true.shape[0]\n",
    "    C12 = C_true_sqrt @ C1 @ C_true_sqrt\n",
    "    C12_sqrt = np.real(sqrtm(C12))\n",
    "    rel_error = np.linalg.norm(C12_sqrt @ C12_sqrt - C12)/np.linalg.norm(C12)\n",
    "    assert rel_error < tol\n",
    "    h = 1/(N-1)\n",
    "    return h*(np.trace(C_true) + np.trace(C1) - 2*np.trace(C12_sqrt))"
   ]
  },
  {
   "cell_type": "markdown",
   "id": "331c810b-5779-4503-9032-4810e4c356e5",
   "metadata": {},
   "source": [
    "With all of this in place we can now set up a function which computes an approximation of the 2-Wasserstein distance between the true and statFEM priors."
   ]
  },
  {
   "cell_type": "code",
   "execution_count": 23,
   "id": "c99edfd1-9bed-40c5-b2ae-97bbe2fa4987",
   "metadata": {},
   "outputs": [],
   "source": [
    "def W(μ_fem,μ_true,Σ_fem,Σ_true,Σ_true_sqrt):\n",
    "    mean_error = errornorm(μ_true,μ_fem,'L2')\n",
    "    cov_error = compute_cov_diff(Σ_fem,Σ_true,Σ_true_sqrt)\n",
    "    cov_error = np.sqrt(np.abs(cov_error))\n",
    "    error = mean_error + cov_error\n",
    "    # error = np.sqrt(mean_error**2 + cov_error**2)\n",
    "    return error"
   ]
  },
  {
   "cell_type": "markdown",
   "id": "430432e8-fb90-4bb3-9643-d1da2c98d2a9",
   "metadata": {},
   "source": [
    "We set up a range of $h$ values on which to compute this error."
   ]
  },
  {
   "cell_type": "code",
   "execution_count": 24,
   "id": "7a73360d-5abd-4a64-ba25-cab1c770027e",
   "metadata": {},
   "outputs": [
    {
     "data": {
      "text/plain": [
       "array([0.25, 0.2 , 0.17, 0.14, 0.12, 0.11, 0.1 , 0.09, 0.08, 0.08, 0.07,\n",
       "       0.07, 0.06, 0.06, 0.06, 0.05, 0.05, 0.05, 0.05, 0.04, 0.04, 0.04,\n",
       "       0.04, 0.03, 0.03, 0.03, 0.03, 0.02, 0.02, 0.02])"
      ]
     },
     "execution_count": 24,
     "metadata": {},
     "output_type": "execute_result"
    }
   ],
   "source": [
    "# set up range of h values to use\n",
    "h_range_tmp = np.linspace(0.25,0.02,100)\n",
    "h_range = 1/np.unique(np.round(1/h_range_tmp))\n",
    "np.round(h_range,2)"
   ]
  },
  {
   "cell_type": "markdown",
   "id": "73a37e69-b0a6-4ee6-ac90-3ad679328736",
   "metadata": {},
   "source": [
    "We now compute the errors for this range of $h$."
   ]
  },
  {
   "cell_type": "code",
   "execution_count": 25,
   "id": "77abe78e-40df-4ff8-969c-a6d66b17ae8a",
   "metadata": {},
   "outputs": [],
   "source": [
    "set_log_level(LogLevel.ERROR)"
   ]
  },
  {
   "cell_type": "code",
   "execution_count": 26,
   "id": "5b92f86d-15c4-46c9-aa6c-c89df817c56e",
   "metadata": {},
   "outputs": [
    {
     "name": "stderr",
     "output_type": "stream",
     "text": [
      "100%|██████████| 30/30 [00:00<00:00, 44.11it/s]"
     ]
    },
    {
     "name": "stdout",
     "output_type": "stream",
     "text": [
      "CPU times: user 689 ms, sys: 6.77 ms, total: 696 ms\n",
      "Wall time: 686 ms\n"
     ]
    },
    {
     "name": "stderr",
     "output_type": "stream",
     "text": [
      "\n"
     ]
    }
   ],
   "source": [
    "%%time\n",
    "errors = []\n",
    "for h in tqdm(h_range):\n",
    "    # obtain the fem prior for this value of h\n",
    "    μ, Σ = fem_prior(h,f_bar,k_f,grid)\n",
    "    # compute the error between the true and fem prior\n",
    "    error = W(μ,μ_star,Σ,C_true,C_true_sqrt)\n",
    "    # append to errors\n",
    "    errors.append(error)"
   ]
  },
  {
   "cell_type": "markdown",
   "id": "659a14fc-c982-4d61-b758-46ca276a3959",
   "metadata": {},
   "source": [
    "We now analyse the results by plotting the errors on a log-log scale and using ordinary least squares regression to estimate the slope of the line of best fit. This gives us an estimate of the rate of convergence as if we assume:\n",
    "\n",
    "$$W(\\nu_{\\star},\\nu_{h})\\leq\\mathcal{O}(h^{p})\\text{ as }h\\rightarrow 0$$\n",
    "\n",
    "then we have \n",
    "\n",
    "$$W(\\nu_{\\star},\\nu_{h})=Ch^{p}+\\mathcal{O}(h^{p+1})$$ \n",
    "\n",
    "from which it follows that:\n",
    "\n",
    "$$\\log W(\\nu_{\\star},\\nu_{h})=p\\log h + \\log|C| + \\mathcal{O}(h)$$\n",
    "\n",
    "and so the slope is the rate of convergence $p$. Our theory gives us $p=2$ and so we should expect to obtain a slope of $2$."
   ]
  },
  {
   "cell_type": "code",
   "execution_count": 27,
   "id": "cd8ac4ab-fb39-49cc-8086-6ce980eedd5e",
   "metadata": {},
   "outputs": [],
   "source": [
    "#hide\n",
    "errors = np.array(errors)"
   ]
  },
  {
   "cell_type": "code",
   "execution_count": 28,
   "id": "740d82e2-04a4-4665-8181-bb662a3e52f6",
   "metadata": {},
   "outputs": [
    {
     "name": "stdout",
     "output_type": "stream",
     "text": [
      "slope: 2.000523    intercept: -2.184977    r value: 0.999881     p value: 0.000000\n"
     ]
    },
    {
     "data": {
      "image/png": "[encoded data removed]",
      "text/plain": [
       "<Figure size 720x432 with 1 Axes>"
      ]
     },
     "metadata": {
      "needs_background": "light"
     },
     "output_type": "display_data"
    }
   ],
   "source": [
    "#hide_input\n",
    "log_h_range = np.log(h_range)\n",
    "log_errors = np.log(errors)\n",
    "\n",
    "# perform linear regression to get line of best fit for the log scales:\n",
    "lm = linregress(log_h_range,log_errors)\n",
    "print(\"slope: %f    intercept: %f    r value: %f     p value: %f\" % (lm.slope, lm.intercept, lm.rvalue, lm.pvalue))\n",
    "\n",
    "# plot line of best fit with the data:\n",
    "x = np.linspace(np.min(log_h_range),np.max(log_h_range),100)\n",
    "plt.scatter(log_h_range,log_errors,label='data')\n",
    "plt.plot(x,lm.intercept + lm.slope * x, 'r', label='fitted line')\n",
    "plt.plot(x,-1+2*x,'--',c='black',label='reference line')\n",
    "plt.grid()\n",
    "plt.legend()\n",
    "plt.xlabel('$\\log(h)$')\n",
    "plt.ylabel('$\\log(W)$')\n",
    "plt.title('Plot of $\\log(W)$ vs $\\log(h)$')\n",
    "plt.savefig('1D_prior_results.png',dpi=300,bbox_inches='tight',facecolor=\"w\")\n",
    "plt.show()"
   ]
  },
  {
   "cell_type": "markdown",
   "id": "d9181463-ec9e-4114-84b0-4bb3fea7ad3f",
   "metadata": {},
   "source": [
    "We can see from the results above that we indeed obtain a slope of $p=2$ for this example."
   ]
  },
  {
   "cell_type": "code",
   "execution_count": null,
   "id": "e89425ec-977b-4cd2-9432-a0cacbb389ca",
   "metadata": {},
   "outputs": [],
   "source": []
  }
 ],
 "metadata": {
  "kernelspec": {
   "display_name": "Python 3",
   "language": "python",
   "name": "python3"
  },
  "language_info": {
   "codemirror_mode": {
    "name": "ipython",
    "version": 3
   },
   "file_extension": ".py",
   "mimetype": "text/x-python",
   "name": "python",
   "nbconvert_exporter": "python",
   "pygments_lexer": "ipython3",
   "version": "3.6.9"
  }
 },
 "nbformat": 4,
 "nbformat_minor": 5
}
