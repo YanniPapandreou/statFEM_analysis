{
 "cells": [
  {
   "cell_type": "markdown",
   "id": "8cdf9df1",
   "metadata": {},
   "source": [
    "# 2-D prior toy example (RBF covariance)"
   ]
  },
  {
   "cell_type": "markdown",
   "id": "b92e9179-4463-4fda-95fb-191e97796811",
   "metadata": {},
   "source": [
    "> Demonstration of prior error bounds for a 2-D toy example"
   ]
  },
  {
   "cell_type": "markdown",
   "id": "6b817ae4",
   "metadata": {},
   "source": [
    "In this notebook we will demonstrate the error bounds for the statFEM prior for the toy example introduced in [twoDim](01_twoDim.ipynb#2-dimensional-case-(PDE)). We first import some required packages."
   ]
  },
  {
   "cell_type": "code",
   "execution_count": 1,
   "id": "354f84b8",
   "metadata": {},
   "outputs": [],
   "source": [
    "from dolfin import *\n",
    "set_log_level(LogLevel.ERROR)\n",
    "import numpy as np\n",
    "import numba\n",
    "import matplotlib.pyplot as plt\n",
    "plt.rcParams['figure.figsize'] = (10,6)\n",
    "# import required functions from twoDim\n",
    "from statFEM_analysis.twoDim import mean_assembler, kernMat, cov_assembler\n",
    "from scipy.linalg import sqrtm\n",
    "import sympy; sympy.init_printing()\n",
    "from tqdm import tqdm\n",
    "# code for displaying matrices nicely\n",
    "def display_matrix(m):\n",
    "    display(sympy.Matrix(m))"
   ]
  },
  {
   "cell_type": "markdown",
   "id": "e2531b90",
   "metadata": {},
   "source": [
    "Since we do not have ready access to a solution operator for this problem we will utilise a different approach to demonstrate the appropriate rate for the error bounds. This approach involves comparing the statFEM distributions on finer and finer meshes as follows. We first assume we have the following error bound:\n",
    "\n",
    "$$W(\\nu_{\\star},\\nu_{h})\\leq\\mathcal{O}(h^{p}) \\text{ as } h\\rightarrow 0$$\n",
    "\n",
    "From this we have:\n",
    "\n",
    "$$W(\\nu_{\\star},\\nu_{h})=Ch^{p}+\\mathcal{O}(h^{p+1})$$ \n",
    "\n",
    "The triangle inequality then yields:\n",
    "\n",
    "$$W(\\nu_{h},\\nu_{h/2})\\leq W(\\nu_{h},\\nu_{\\star}) + W(\\nu_{\\star},\\nu_{h/2})$$\n",
    "\n",
    "And so with the above we obtain:\n",
    "\n",
    "$$W(\\nu_{h},\\nu_{h/2})=Ch^{p}+C(h/2)^{p}+\\mathcal{O}(h^{p+1})$$\n",
    "\n",
    "Similarly we have:\n",
    "\n",
    "$$W(\\nu_{h/2},\\nu_{h/4})=C(h/2)^{p}+C(h/4)^{p}+\\mathcal{O}(h^{p+1})$$\n",
    "\n",
    "Dividing the two above equations yields:\n",
    "\n",
    "$$\\frac{W(\\nu_{h},\\nu_{h/2})}{W(\\nu_{h/2},\\nu_{h/4})}=\\frac{Ch^{p}+C(h/2)^{p}+\\mathcal{O}(h^{p+1})}{C(h/2)^{p}+C(h/4)^{p}+\\mathcal{O}(h^{p+1})}=\\frac{1-2^{-p}+\\mathcal{O}(h)}{2^{-p}-2^{-2p}+\\mathcal{O}(h)}=2^{p}+\\mathcal{O}(h)$$\n",
    "\n",
    "From which it follows:\n",
    "\n",
    "$$\\operatorname{LR}(h):=\\log_{2}\\frac{W(\\nu_{h},\\nu_{h/2})}{W(\\nu_{h/2},\\nu_{h/4})}=p+\\mathcal{O}(h)$$\n",
    "\n",
    "Note that this ratio above does not rely on having access to the true prior $\\nu_{\\star}$.\n",
    "\n",
    "We will thus compare the errors on a succesively refined mesh and take the base-2 log of the above ratio. We hope to see these logarithms converge to $p=2$."
   ]
  },
  {
   "cell_type": "markdown",
   "id": "242e557f",
   "metadata": {},
   "source": [
    "We now set up the mean and kernel functions for the random forcing term $f$."
   ]
  },
  {
   "cell_type": "code",
   "execution_count": 2,
   "id": "6ddcbd15",
   "metadata": {},
   "outputs": [],
   "source": [
    "# set up mean and kernel functions\n",
    "f_bar = Constant(1.0)\n",
    "\n",
    "l_f = 0.4\n",
    "σ_f = 0.1\n",
    "\n",
    "@numba.jit\n",
    "def k_f(x):\n",
    "    return (σ_f**2)*np.exp(-(x**2)/(2*(l_f**2)))"
   ]
  },
  {
   "cell_type": "markdown",
   "id": "66640463",
   "metadata": {},
   "source": [
    "We now set up a function to get the statFEM prior for a FE mesh size $h$, using functions from <a href=\"/statFEM/twoDim.html#\"><code>twoDim</code></a>."
   ]
  },
  {
   "cell_type": "code",
   "execution_count": 3,
   "id": "d450240b",
   "metadata": {},
   "outputs": [],
   "source": [
    "def fem_prior(h,f_bar,k_f,grid):\n",
    "    J = int(np.round(1/h))\n",
    "    μ = mean_assembler(h,f_bar)\n",
    "    Σ = cov_assembler(J,k_f,grid,False,True)\n",
    "    return μ,Σ"
   ]
  },
  {
   "cell_type": "markdown",
   "id": "a38cac40",
   "metadata": {},
   "source": [
    "We now set up a reference grid on which we will compare the covariance matrices."
   ]
  },
  {
   "cell_type": "code",
   "execution_count": 4,
   "id": "6cfe93ea",
   "metadata": {},
   "outputs": [],
   "source": [
    "N = 41\n",
    "x_range = np.linspace(0,1,N)\n",
    "grid = np.array([[x,y] for x in x_range for y in x_range])"
   ]
  },
  {
   "cell_type": "markdown",
   "id": "1c83e55a",
   "metadata": {},
   "source": [
    "We now set up a function to compare the covariance functions on the reference grid."
   ]
  },
  {
   "cell_type": "code",
   "execution_count": 5,
   "id": "44442a43",
   "metadata": {},
   "outputs": [],
   "source": [
    "def compute_cov_diff(C1,C2,tol=1e-10):\n",
    "    N = np.sqrt(C1.shape[0])\n",
    "    C1_sqrt = np.real(sqrtm(C1))\n",
    "    rel_error_1 = np.linalg.norm(C1_sqrt @ C1_sqrt - C1)/np.linalg.norm(C1)\n",
    "    assert rel_error_1 < tol\n",
    "    \n",
    "    C12 = C1_sqrt @ C2 @ C1_sqrt\n",
    "    C12_sqrt = np.real(sqrtm(C12))\n",
    "    rel_error_12 = np.linalg.norm(C12_sqrt @ C12_sqrt - C12)/np.linalg.norm(C12)\n",
    "    assert rel_error_12 < tol\n",
    "    \n",
    "    hSq = (1/(N-1))**2\n",
    "    return hSq*(np.trace(C1) + np.trace(C2) - 2*np.trace(C12_sqrt))"
   ]
  },
  {
   "cell_type": "markdown",
   "id": "cc481005",
   "metadata": {},
   "source": [
    "We now set up a function to compute the Wasserstein distance between the statFEM priors."
   ]
  },
  {
   "cell_type": "code",
   "execution_count": 6,
   "id": "3a7317e1",
   "metadata": {},
   "outputs": [],
   "source": [
    "def W(μ_1,μ_2,Σ_1,Σ_2):\n",
    "    mean_error = errornorm(μ_1,μ_2,'L2')\n",
    "    cov_error = compute_cov_diff(Σ_1,Σ_2)\n",
    "    cov_error = np.sqrt(np.abs(cov_error))\n",
    "    error = mean_error + cov_error\n",
    "    return error"
   ]
  },
  {
   "cell_type": "markdown",
   "id": "29670c5d",
   "metadata": {},
   "source": [
    "In the interests of memory efficiency we will now create a function which will compute the ratios of errors mentioned above by succesively refining the FE mesh."
   ]
  },
  {
   "cell_type": "code",
   "execution_count": 7,
   "id": "d4f43c4f",
   "metadata": {},
   "outputs": [],
   "source": [
    "def refine(h,n,f_bar,k_f,grid):\n",
    "    # set up empty lists to hold h-values and errors (this being the ratios)\n",
    "    h_range = []\n",
    "    errors = []\n",
    "    # get the statFEM prior for h and h/2\n",
    "    μ_1, Σ_1 = fem_prior(h,f_bar,k_f,grid)\n",
    "    μ_2, Σ_2 = fem_prior(h/2,f_bar,k_f,grid)\n",
    "    # compute the distance between these and store in numerator variable\n",
    "    numerator = W(μ_1,μ_2,Σ_1,Σ_2)\n",
    "    # succesively refine the mesh by halving and do this n times\n",
    "    for i in tqdm(range(n), desc=\"inner loop\", position=1, leave=False):\n",
    "        # store mean and cov for h/2 in storage for h\n",
    "        μ_1, Σ_1 = μ_2, Σ_2 \n",
    "        # in storage for h/2 store mean and cov for h/4\n",
    "        μ_2, Σ_2 = fem_prior(h/4,f_bar,k_f,grid)\n",
    "        # compute the distance between the priors for h/2 and h/4\n",
    "        # and store in denominator variable\n",
    "        denominator = W(μ_1,μ_2,Σ_1,Σ_2)\n",
    "        # compute the ratio and store in error\n",
    "        error = numerator/denominator\n",
    "        # append the current value of h and the ratio\n",
    "        h_range.append(h)\n",
    "        errors.append(error)\n",
    "        # store denominator in numerator and halve h\n",
    "        numerator = denominator\n",
    "        h = h/2\n",
    "    # return the list of h-values together with the ratios for these values\n",
    "    return h_range,errors"
   ]
  },
  {
   "cell_type": "markdown",
   "id": "a27d149b",
   "metadata": {},
   "source": [
    "<div class=\"alert alert-info\">\n",
    "\n",
    "Note:\n",
    "\n",
    "The above function will compute the ratio $\\frac{W(\\nu_{h},\\nu_{h/2})}{W(\\nu_{h/2},\\nu_{h/4})}$ for the values $h,h/2,\\cdots,h/2^{n-1}$.\n",
    "    \n",
    "</div>"
   ]
  },
  {
   "cell_type": "markdown",
   "id": "61be823b",
   "metadata": {},
   "source": [
    "We now set up a list of starting $h$ values and number of refinements $n$ to get a decent number of ratios to approximate $p$."
   ]
  },
  {
   "cell_type": "code",
   "execution_count": 8,
   "id": "0d6b6a9c",
   "metadata": {},
   "outputs": [],
   "source": [
    "my_list = [(0.25,4),(0.2,3),(0.175,3),(0.22,4),(0.176,3),(0.177,3),(0.178,3),(0.179,3),(0.18,3),(0.21,3),(0.215,3),(0.1,2),(0.3,4),(0.31,4),(0.315,4),(0.24,4),(0.245,4),(0.25,4),(0.14,2),(0.16,2),(0.15,2),(0.18,2)]"
   ]
  },
  {
   "cell_type": "markdown",
   "id": "4929a34c",
   "metadata": {},
   "source": [
    "<div class=\"alert alert-warning\">\n",
    "\n",
    "Warning: \n",
    "\n",
    "As we are now in 2-D the matrices needed to compute the statFEM prior get very large in size as $h$ decreases. Due to memory constraints we must thus make sure $h$ does not get too small.\n",
    "\n",
    "</div>"
   ]
  },
  {
   "cell_type": "markdown",
   "id": "49f4d257",
   "metadata": {},
   "source": [
    "We now compute the results:"
   ]
  },
  {
   "cell_type": "code",
   "execution_count": 9,
   "id": "576e550e-fe49-46a5-abb8-cfa291c1a39d",
   "metadata": {},
   "outputs": [],
   "source": [
    "set_log_level(LogLevel.ERROR)"
   ]
  },
  {
   "cell_type": "code",
   "execution_count": 10,
   "id": "bcd8874d-7277-45be-b39d-c95f083146b6",
   "metadata": {},
   "outputs": [],
   "source": [
    "n_outer=len(my_list)"
   ]
  },
  {
   "cell_type": "code",
   "execution_count": 12,
   "id": "e4311ad1",
   "metadata": {},
   "outputs": [
    {
     "name": "stderr",
     "output_type": "stream",
     "text": [
      "outer: 0it [00:00, ?it/s]\n",
      "inner loop:   0%|          | 0/4 [00:00<?, ?it/s]\u001b[A\n",
      "inner loop:  25%|██▌       | 1/4 [01:47<05:21, 107.30s/it]\u001b[A\n",
      "inner loop:  50%|█████     | 2/4 [03:34<03:34, 107.19s/it]\u001b[A\n",
      "inner loop:  75%|███████▌  | 3/4 [05:32<01:52, 112.05s/it]\u001b[A\n",
      "inner loop: 100%|██████████| 4/4 [10:27<00:00, 184.29s/it]\u001b[A\n",
      "outer: 1it [12:15, 735.36s/it]                            \u001b[A\n",
      "inner loop:   0%|          | 0/3 [00:00<?, ?it/s]\u001b[A\n",
      "inner loop:  33%|███▎      | 1/3 [01:48<03:37, 108.93s/it]\u001b[A\n",
      "inner loop:  67%|██████▋   | 2/3 [03:41<01:51, 111.29s/it]\u001b[A\n",
      "inner loop: 100%|██████████| 3/3 [05:49<00:00, 118.89s/it]\u001b[A\n",
      "outer: 2it [19:53, 572.34s/it]                            \u001b[A\n",
      "inner loop:   0%|          | 0/3 [00:00<?, ?it/s]\u001b[A\n",
      "inner loop:  33%|███▎      | 1/3 [01:51<03:42, 111.11s/it]\u001b[A\n",
      "inner loop:  67%|██████▋   | 2/3 [03:55<01:59, 119.13s/it]\u001b[A\n",
      "inner loop: 100%|██████████| 3/3 [06:17<00:00, 129.34s/it]\u001b[A\n",
      "outer: 3it [28:01, 533.81s/it]                            \u001b[A\n",
      "inner loop:   0%|          | 0/4 [00:00<?, ?it/s]\u001b[A\n",
      "inner loop:  25%|██▌       | 1/4 [01:50<05:30, 110.00s/it]\u001b[A\n",
      "inner loop:  50%|█████     | 2/4 [03:40<03:40, 110.35s/it]\u001b[A\n",
      "inner loop:  75%|███████▌  | 3/4 [05:40<01:54, 114.63s/it]\u001b[A\n",
      "inner loop: 100%|██████████| 4/4 [12:40<00:00, 235.19s/it]\u001b[A\n",
      "outer: 4it [42:31, 666.49s/it]                            \u001b[A\n",
      "inner loop:   0%|          | 0/3 [00:00<?, ?it/s]\u001b[A\n",
      "inner loop:  33%|███▎      | 1/3 [01:50<03:40, 110.29s/it]\u001b[A\n",
      "inner loop:  67%|██████▋   | 2/3 [03:42<01:51, 111.64s/it]\u001b[A\n",
      "inner loop: 100%|██████████| 3/3 [06:05<00:00, 126.01s/it]\u001b[A\n",
      "outer: 5it [50:32, 599.50s/it]                            \u001b[A\n",
      "inner loop:   0%|          | 0/3 [00:00<?, ?it/s]\u001b[A\n",
      "inner loop:  33%|███▎      | 1/3 [01:51<03:42, 111.49s/it]\u001b[A\n",
      "inner loop:  67%|██████▋   | 2/3 [03:35<01:46, 106.85s/it]\u001b[A\n",
      "inner loop: 100%|██████████| 3/3 [05:37<00:00, 114.13s/it]\u001b[A\n",
      "outer: 6it [57:58, 547.59s/it]                            \u001b[A\n",
      "inner loop:   0%|          | 0/3 [00:00<?, ?it/s]\u001b[A\n",
      "inner loop:  33%|███▎      | 1/3 [01:45<03:31, 105.72s/it]\u001b[A\n",
      "inner loop:  67%|██████▋   | 2/3 [03:33<01:46, 106.85s/it]\u001b[A\n",
      "inner loop: 100%|██████████| 3/3 [05:38<00:00, 115.16s/it]\u001b[A\n",
      "outer: 7it [1:05:22, 513.63s/it]                          \u001b[A\n",
      "inner loop:   0%|          | 0/3 [00:00<?, ?it/s]\u001b[A\n",
      "inner loop:  33%|███▎      | 1/3 [01:48<03:37, 108.50s/it]\u001b[A\n",
      "inner loop:  67%|██████▋   | 2/3 [03:36<01:48, 108.13s/it]\u001b[A\n",
      "inner loop: 100%|██████████| 3/3 [05:46<00:00, 118.31s/it]\u001b[A\n",
      "outer: 8it [1:12:54, 494.04s/it]                          \u001b[A\n",
      "inner loop:   0%|          | 0/3 [00:00<?, ?it/s]\u001b[A\n",
      "inner loop:  33%|███▎      | 1/3 [01:47<03:35, 107.93s/it]\u001b[A\n",
      "inner loop:  67%|██████▋   | 2/3 [03:36<01:48, 108.48s/it]\u001b[A\n",
      "inner loop: 100%|██████████| 3/3 [05:45<00:00, 117.62s/it]\u001b[A\n",
      "outer: 9it [1:20:27, 481.20s/it]                          \u001b[A\n",
      "inner loop:   0%|          | 0/3 [00:00<?, ?it/s]\u001b[A\n",
      "inner loop:  33%|███▎      | 1/3 [01:47<03:35, 107.57s/it]\u001b[A\n",
      "inner loop:  67%|██████▋   | 2/3 [03:30<01:44, 104.66s/it]\u001b[A\n",
      "inner loop: 100%|██████████| 3/3 [05:22<00:00, 107.93s/it]\u001b[A\n",
      "outer: 10it [1:27:38, 465.73s/it]                         \u001b[A\n",
      "inner loop:   0%|          | 0/3 [00:00<?, ?it/s]\u001b[A\n",
      "inner loop:  33%|███▎      | 1/3 [01:47<03:34, 107.42s/it]\u001b[A\n",
      "inner loop:  67%|██████▋   | 2/3 [03:36<01:48, 108.35s/it]\u001b[A\n",
      "inner loop: 100%|██████████| 3/3 [05:31<00:00, 111.46s/it]\u001b[A\n",
      "outer: 11it [1:34:52, 455.90s/it]                         \u001b[A\n",
      "inner loop:   0%|          | 0/2 [00:00<?, ?it/s]\u001b[A\n",
      "inner loop:  50%|█████     | 1/2 [01:53<01:53, 113.28s/it]\u001b[A\n",
      "inner loop: 100%|██████████| 2/2 [04:03<00:00, 123.06s/it]\u001b[A\n",
      "outer: 12it [1:40:49, 425.90s/it]                         \u001b[A\n",
      "inner loop:   0%|          | 0/4 [00:00<?, ?it/s]\u001b[A\n",
      "inner loop:  25%|██▌       | 1/4 [01:52<05:38, 112.92s/it]\u001b[A\n",
      "inner loop:  50%|█████     | 2/4 [03:46<03:46, 113.44s/it]\u001b[A\n",
      "inner loop:  75%|███████▌  | 3/4 [05:45<01:55, 115.66s/it]\u001b[A\n",
      "inner loop: 100%|██████████| 4/4 [08:50<00:00, 143.07s/it]\u001b[A\n",
      "outer: 13it [1:51:29, 490.56s/it]                         \u001b[A\n",
      "inner loop:   0%|          | 0/4 [00:00<?, ?it/s]\u001b[A\n",
      "inner loop:  25%|██▌       | 1/4 [01:55<05:46, 115.36s/it]\u001b[A\n",
      "inner loop:  50%|█████     | 2/4 [03:52<03:53, 116.62s/it]\u001b[A\n",
      "inner loop:  75%|███████▌  | 3/4 [05:55<01:59, 119.46s/it]\u001b[A\n",
      "inner loop: 100%|██████████| 4/4 [08:53<00:00, 142.30s/it]\u001b[A\n",
      "outer: 14it [2:02:19, 538.73s/it]                         \u001b[A\n",
      "inner loop:   0%|          | 0/4 [00:00<?, ?it/s]\u001b[A\n",
      "inner loop:  25%|██▌       | 1/4 [01:50<05:30, 110.06s/it]\u001b[A\n",
      "inner loop:  50%|█████     | 2/4 [03:44<03:45, 112.73s/it]\u001b[A\n",
      "inner loop:  75%|███████▌  | 3/4 [05:40<01:54, 114.30s/it]\u001b[A\n",
      "inner loop: 100%|██████████| 4/4 [08:35<00:00, 137.98s/it]\u001b[A\n",
      "outer: 15it [2:12:40, 563.63s/it]                         \u001b[A\n",
      "inner loop:   0%|          | 0/4 [00:00<?, ?it/s]\u001b[A\n",
      "inner loop:  25%|██▌       | 1/4 [01:54<05:42, 114.04s/it]\u001b[A\n",
      "inner loop:  50%|█████     | 2/4 [03:45<03:45, 112.76s/it]\u001b[A\n",
      "inner loop:  75%|███████▌  | 3/4 [05:41<01:54, 114.24s/it]\u001b[A\n",
      "inner loop: 100%|██████████| 4/4 [10:20<00:00, 179.00s/it]\u001b[A\n",
      "outer: 16it [2:24:54, 614.78s/it]                         \u001b[A\n",
      "inner loop:   0%|          | 0/4 [00:00<?, ?it/s]\u001b[A\n",
      "inner loop:  25%|██▌       | 1/4 [01:47<05:22, 107.53s/it]\u001b[A\n",
      "inner loop:  50%|█████     | 2/4 [03:34<03:34, 107.43s/it]\u001b[A\n",
      "inner loop:  75%|███████▌  | 3/4 [05:29<01:50, 110.69s/it]\u001b[A\n",
      "inner loop: 100%|██████████| 4/4 [09:37<00:00, 164.91s/it]\u001b[A\n",
      "outer: 17it [2:36:15, 634.89s/it]                         \u001b[A\n",
      "inner loop:   0%|          | 0/4 [00:00<?, ?it/s]\u001b[A\n",
      "inner loop:  25%|██▌       | 1/4 [01:49<05:29, 109.90s/it]\u001b[A\n",
      "inner loop:  50%|█████     | 2/4 [03:37<03:36, 108.43s/it]\u001b[A\n",
      "inner loop:  75%|███████▌  | 3/4 [05:31<01:50, 110.99s/it]\u001b[A\n",
      "inner loop: 100%|██████████| 4/4 [09:27<00:00, 160.23s/it]\u001b[A\n",
      "outer: 18it [2:47:28, 646.31s/it]                         \u001b[A\n",
      "inner loop:   0%|          | 0/2 [00:00<?, ?it/s]\u001b[A\n",
      "inner loop:  50%|█████     | 1/2 [01:44<01:44, 104.31s/it]\u001b[A\n",
      "inner loop: 100%|██████████| 2/2 [03:36<00:00, 109.13s/it]\u001b[A\n",
      "outer: 19it [2:52:50, 548.82s/it]                         \u001b[A\n",
      "inner loop:   0%|          | 0/2 [00:00<?, ?it/s]\u001b[A\n",
      "inner loop:  50%|█████     | 1/2 [01:47<01:47, 107.43s/it]\u001b[A\n",
      "inner loop: 100%|██████████| 2/2 [03:50<00:00, 116.67s/it]\u001b[A\n",
      "outer: 20it [2:58:32, 486.83s/it]                         \u001b[A\n",
      "inner loop:   0%|          | 0/2 [00:00<?, ?it/s]\u001b[A\n",
      "inner loop:  50%|█████     | 1/2 [01:55<01:55, 115.98s/it]\u001b[A\n",
      "inner loop: 100%|██████████| 2/2 [03:51<00:00, 115.75s/it]\u001b[A\n",
      "outer: 21it [3:04:21, 445.29s/it]                         \u001b[A\n",
      "inner loop:   0%|          | 0/2 [00:00<?, ?it/s]\u001b[A\n",
      "inner loop:  50%|█████     | 1/2 [01:59<01:59, 119.45s/it]\u001b[A\n",
      "inner loop: 100%|██████████| 2/2 [03:59<00:00, 119.97s/it]\u001b[A\n",
      "outer: 22it [3:10:17, 518.95s/it]                         \u001b[A"
     ]
    },
    {
     "name": "stdout",
     "output_type": "stream",
     "text": [
      "CPU times: user 3h 7min 41s, sys: 1min 3s, total: 3h 8min 45s\n",
      "Wall time: 3h 10min 17s\n"
     ]
    },
    {
     "name": "stderr",
     "output_type": "stream",
     "text": [
      "\n"
     ]
    }
   ],
   "source": [
    "%%time\n",
    "h_range = []\n",
    "errors = []\n",
    "for i,(h,n) in tqdm(enumerate(my_list), desc=\"outer\", position=0):\n",
    "    h_range_tmp, errors_tmp = refine(h,n,f_bar,k_f,grid)\n",
    "    h_range.extend(h_range_tmp)\n",
    "    errors.extend(errors_tmp)"
   ]
  },
  {
   "cell_type": "markdown",
   "id": "24f79dcc",
   "metadata": {},
   "source": [
    "We now sort these results by $h$ and get rid of duplicates (from repeats in $h$-values)."
   ]
  },
  {
   "cell_type": "code",
   "execution_count": 13,
   "id": "69b4b2f3",
   "metadata": {},
   "outputs": [],
   "source": [
    "h_range_array = np.array(h_range)\n",
    "errors_array = np.array(errors)"
   ]
  },
  {
   "cell_type": "code",
   "execution_count": 14,
   "id": "e90490e9",
   "metadata": {},
   "outputs": [],
   "source": [
    "argInd = np.argsort(h_range_array)\n",
    "hs = h_range_array[argInd]\n",
    "es = errors_array[argInd]\n",
    "hs,hs_ind = np.unique(hs,return_index=True)\n",
    "es = es[hs_ind]"
   ]
  },
  {
   "cell_type": "markdown",
   "id": "631ff5f7",
   "metadata": {},
   "source": [
    "We now plot the base-2 logarithm of the ratios against $h$ below:"
   ]
  },
  {
   "cell_type": "code",
   "execution_count": 15,
   "id": "91a267df",
   "metadata": {},
   "outputs": [
    {
     "data": {
      "image/png": "[encoded data removed]",
      "text/plain": [
       "<Figure size 720x432 with 1 Axes>"
      ]
     },
     "metadata": {
      "needs_background": "light"
     },
     "output_type": "display_data"
    }
   ],
   "source": [
    "plt.plot(hs,np.log2(es),c='r')\n",
    "plt.xlabel('$h$')\n",
    "plt.ylabel('$\\operatorname{LR}(h)$')\n",
    "plt.title('Base-2 log plot of the ratios against $h$')\n",
    "plt.hlines(2.0,hs[0],hs[-1],colors='black',linestyles='--')\n",
    "plt.xlim(hs[-1],hs[0])\n",
    "plt.grid()\n",
    "plt.show()"
   ]
  },
  {
   "cell_type": "markdown",
   "id": "e9eca82a",
   "metadata": {},
   "source": [
    "We can see from the above plot that the logarithms seems to be approaching $p=2$ as $h$ gets small just as predicted. However, the results aren't that smooth and they haven't seemed to settle on $p=2$ yet. This can be due to memory constraints meaning we cannot use small enough $h$. We thus smooth the above results by taking a cumulative average of the ratios and then applying $\\log_2$. We take the rolling average starting with large $h$. We choose a cut-off point of $h=0.15$, i.e. we discard any results for $h>0.15$.\n",
    "\n",
    "The results are shown below:"
   ]
  },
  {
   "cell_type": "code",
   "execution_count": 17,
   "id": "92e582a7",
   "metadata": {},
   "outputs": [
    {
     "data": {
      "image/png": "[encoded data removed]",
      "text/plain": [
       "<Figure size 720x432 with 1 Axes>"
      ]
     },
     "metadata": {
      "needs_background": "light"
     },
     "output_type": "display_data"
    }
   ],
   "source": [
    "# get the cumulative average of es:\n",
    "i = -19\n",
    "ES = es[:i]\n",
    "HS = hs[:i]\n",
    "pos = np.arange(0,40,step=5)\n",
    "es_av = np.log2(np.cumsum(ES[::-1])/np.arange(1,len(ES)+1))\n",
    "plt.plot(es_av,label='log_of_cum_av',c='r')\n",
    "plt.xticks(pos,HS[::-1][pos])\n",
    "plt.hlines(2.0,0,len(es_av),colors='black',linestyles='--')\n",
    "plt.title('Base-2 logarithms of the cumulative averages of the ratios for $h\\leq 0.15$')\n",
    "plt.xlabel('min $h$')\n",
    "plt.ylabel('smoothed $\\operatorname{LR}(h)$')\n",
    "plt.grid()\n",
    "plt.show()"
   ]
  },
  {
   "cell_type": "markdown",
   "id": "b1849b79",
   "metadata": {},
   "source": [
    "From the smoothed results above we can see more clearly that the ratios are converging to around $p=2$. In fact, discarding the values corresponding to $h>0.15$ seems to result in the the rolling average converging to a value slightly greater than $2$."
   ]
  }
 ],
 "metadata": {
  "kernelspec": {
   "display_name": "Python 3",
   "language": "python",
   "name": "python3"
  },
  "language_info": {
   "codemirror_mode": {
    "name": "ipython",
    "version": 3
   },
   "file_extension": ".py",
   "mimetype": "text/x-python",
   "name": "python",
   "nbconvert_exporter": "python",
   "pygments_lexer": "ipython3",
   "version": "3.6.9"
  }
 },
 "nbformat": 4,
 "nbformat_minor": 5
}
